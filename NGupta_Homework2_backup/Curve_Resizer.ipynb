{
 "cells": [
  {
   "cell_type": "code",
   "execution_count": 369,
   "metadata": {},
   "outputs": [],
   "source": [
    "import numpy as np\n",
    "import pandas as pd"
   ]
  },
  {
   "cell_type": "code",
   "execution_count": 370,
   "metadata": {},
   "outputs": [],
   "source": [
    "width = 600\n",
    "height = 800"
   ]
  },
  {
   "cell_type": "code",
   "execution_count": 371,
   "metadata": {},
   "outputs": [
    {
     "name": "stdout",
     "output_type": "stream",
     "text": [
      "['298.0,341.0', '596.0,348.0', '596.0,789.0', '7.0,791.0', '1.0,360.0']\n"
     ]
    }
   ],
   "source": [
    "with open(\"../../smu_vis_of_info/workspace/Sketch_002_portrait_curves/curves.txt\",\"r\") as fi:\n",
    "    final = []\n",
    "    csv_list = []\n",
    "    \n",
    "    \"\"\"\n",
    "    for ln in fi:\n",
    "        if (ln.startswith(\"beginShape\") | ln.startswith(\"endShape\")):\n",
    "            id.append(ln)\n",
    "        elif ln.startswith(\"curveVertex(\"):\n",
    "            id.append(\"Temp\")\n",
    "            csv.append            \n",
    "    \"\"\"             \n",
    "    for ln in fi:\n",
    "        if ln.startswith(\"curveVertex(\"):\n",
    "            csv_list.append(ln[12:-3])\n",
    "            \n",
    "print(csv_list)"
   ]
  },
  {
   "cell_type": "code",
   "execution_count": 372,
   "metadata": {},
   "outputs": [
    {
     "data": {
      "text/html": [
       "<div>\n",
       "<style scoped>\n",
       "    .dataframe tbody tr th:only-of-type {\n",
       "        vertical-align: middle;\n",
       "    }\n",
       "\n",
       "    .dataframe tbody tr th {\n",
       "        vertical-align: top;\n",
       "    }\n",
       "\n",
       "    .dataframe thead th {\n",
       "        text-align: right;\n",
       "    }\n",
       "</style>\n",
       "<table border=\"1\" class=\"dataframe\">\n",
       "  <thead>\n",
       "    <tr style=\"text-align: right;\">\n",
       "      <th></th>\n",
       "      <th>width</th>\n",
       "      <th>height</th>\n",
       "    </tr>\n",
       "  </thead>\n",
       "  <tbody>\n",
       "    <tr>\n",
       "      <th>0</th>\n",
       "      <td>298.0</td>\n",
       "      <td>341.0</td>\n",
       "    </tr>\n",
       "    <tr>\n",
       "      <th>1</th>\n",
       "      <td>596.0</td>\n",
       "      <td>348.0</td>\n",
       "    </tr>\n",
       "    <tr>\n",
       "      <th>2</th>\n",
       "      <td>596.0</td>\n",
       "      <td>789.0</td>\n",
       "    </tr>\n",
       "    <tr>\n",
       "      <th>3</th>\n",
       "      <td>7.0</td>\n",
       "      <td>791.0</td>\n",
       "    </tr>\n",
       "    <tr>\n",
       "      <th>4</th>\n",
       "      <td>1.0</td>\n",
       "      <td>360.0</td>\n",
       "    </tr>\n",
       "  </tbody>\n",
       "</table>\n",
       "</div>"
      ],
      "text/plain": [
       "   width  height\n",
       "0  298.0   341.0\n",
       "1  596.0   348.0\n",
       "2  596.0   789.0\n",
       "3    7.0   791.0\n",
       "4    1.0   360.0"
      ]
     },
     "execution_count": 372,
     "metadata": {},
     "output_type": "execute_result"
    }
   ],
   "source": [
    "df = pd.DataFrame([sub.split(\",\") for sub in csv_list],columns=['width','height'])\n",
    "df = df.astype(float)\n",
    "df.head()"
   ]
  },
  {
   "cell_type": "code",
   "execution_count": 373,
   "metadata": {},
   "outputs": [
    {
     "data": {
      "text/html": [
       "<div>\n",
       "<style scoped>\n",
       "    .dataframe tbody tr th:only-of-type {\n",
       "        vertical-align: middle;\n",
       "    }\n",
       "\n",
       "    .dataframe tbody tr th {\n",
       "        vertical-align: top;\n",
       "    }\n",
       "\n",
       "    .dataframe thead th {\n",
       "        text-align: right;\n",
       "    }\n",
       "</style>\n",
       "<table border=\"1\" class=\"dataframe\">\n",
       "  <thead>\n",
       "    <tr style=\"text-align: right;\">\n",
       "      <th></th>\n",
       "      <th>width</th>\n",
       "      <th>height</th>\n",
       "    </tr>\n",
       "  </thead>\n",
       "  <tbody>\n",
       "    <tr>\n",
       "      <th>0</th>\n",
       "      <td>0.4967</td>\n",
       "      <td>0.4262</td>\n",
       "    </tr>\n",
       "    <tr>\n",
       "      <th>1</th>\n",
       "      <td>0.9933</td>\n",
       "      <td>0.4350</td>\n",
       "    </tr>\n",
       "    <tr>\n",
       "      <th>2</th>\n",
       "      <td>0.9933</td>\n",
       "      <td>0.9862</td>\n",
       "    </tr>\n",
       "    <tr>\n",
       "      <th>3</th>\n",
       "      <td>0.0117</td>\n",
       "      <td>0.9888</td>\n",
       "    </tr>\n",
       "    <tr>\n",
       "      <th>4</th>\n",
       "      <td>0.0017</td>\n",
       "      <td>0.4500</td>\n",
       "    </tr>\n",
       "  </tbody>\n",
       "</table>\n",
       "</div>"
      ],
      "text/plain": [
       "    width  height\n",
       "0  0.4967  0.4262\n",
       "1  0.9933  0.4350\n",
       "2  0.9933  0.9862\n",
       "3  0.0117  0.9888\n",
       "4  0.0017  0.4500"
      ]
     },
     "execution_count": 373,
     "metadata": {},
     "output_type": "execute_result"
    }
   ],
   "source": [
    "data2 = {\"width\":[width],\"height\":[height]}\n",
    "shape_df = pd.DataFrame(data2) \n",
    "\n",
    "df_autosized = df.div(shape_df.iloc[0], axis=1).round(4)\n",
    "df_autosized.head()"
   ]
  },
  {
   "cell_type": "code",
   "execution_count": 374,
   "metadata": {},
   "outputs": [
    {
     "data": {
      "text/html": [
       "<div>\n",
       "<style scoped>\n",
       "    .dataframe tbody tr th:only-of-type {\n",
       "        vertical-align: middle;\n",
       "    }\n",
       "\n",
       "    .dataframe tbody tr th {\n",
       "        vertical-align: top;\n",
       "    }\n",
       "\n",
       "    .dataframe thead th {\n",
       "        text-align: right;\n",
       "    }\n",
       "</style>\n",
       "<table border=\"1\" class=\"dataframe\">\n",
       "  <thead>\n",
       "    <tr style=\"text-align: right;\">\n",
       "      <th></th>\n",
       "      <th>width</th>\n",
       "      <th>height</th>\n",
       "      <th>final</th>\n",
       "    </tr>\n",
       "  </thead>\n",
       "  <tbody>\n",
       "    <tr>\n",
       "      <th>0</th>\n",
       "      <td>0.4967</td>\n",
       "      <td>0.4262</td>\n",
       "      <td>curveVertex(0.4967 * width, 0.4262 * height);</td>\n",
       "    </tr>\n",
       "    <tr>\n",
       "      <th>1</th>\n",
       "      <td>0.9933</td>\n",
       "      <td>0.4350</td>\n",
       "      <td>curveVertex(0.9933 * width, 0.435 * height);</td>\n",
       "    </tr>\n",
       "    <tr>\n",
       "      <th>2</th>\n",
       "      <td>0.9933</td>\n",
       "      <td>0.9862</td>\n",
       "      <td>curveVertex(0.9933 * width, 0.9862 * height);</td>\n",
       "    </tr>\n",
       "    <tr>\n",
       "      <th>3</th>\n",
       "      <td>0.0117</td>\n",
       "      <td>0.9888</td>\n",
       "      <td>curveVertex(0.0117 * width, 0.9888 * height);</td>\n",
       "    </tr>\n",
       "    <tr>\n",
       "      <th>4</th>\n",
       "      <td>0.0017</td>\n",
       "      <td>0.4500</td>\n",
       "      <td>curveVertex(0.0017 * width, 0.45 * height);</td>\n",
       "    </tr>\n",
       "  </tbody>\n",
       "</table>\n",
       "</div>"
      ],
      "text/plain": [
       "    width  height                                          final\n",
       "0  0.4967  0.4262  curveVertex(0.4967 * width, 0.4262 * height);\n",
       "1  0.9933  0.4350   curveVertex(0.9933 * width, 0.435 * height);\n",
       "2  0.9933  0.9862  curveVertex(0.9933 * width, 0.9862 * height);\n",
       "3  0.0117  0.9888  curveVertex(0.0117 * width, 0.9888 * height);\n",
       "4  0.0017  0.4500    curveVertex(0.0017 * width, 0.45 * height);"
      ]
     },
     "execution_count": 374,
     "metadata": {},
     "output_type": "execute_result"
    }
   ],
   "source": [
    "df_autosized['final'] = \"curveVertex(\" + df_autosized['width'].astype(str) + \" * width, \" + df_autosized['height'].astype(str) + \" * height);\"\n",
    "df_autosized.head()"
   ]
  },
  {
   "cell_type": "code",
   "execution_count": 375,
   "metadata": {},
   "outputs": [],
   "source": [
    "#del df_autosized['width']\n",
    "#del df_autosized['height']"
   ]
  },
  {
   "cell_type": "code",
   "execution_count": 376,
   "metadata": {},
   "outputs": [],
   "source": [
    "import csv\n",
    "df_autosized.to_csv(\"resized.txt\", index = False, columns=['final']\n",
    "                    ,header=False\n",
    "                    ,quoting=csv.QUOTE_NONE\n",
    "                    ,quotechar='\\\"'\n",
    "                    ,escapechar=\"\\\\\"         \n",
    "                   )"
   ]
  },
  {
   "cell_type": "code",
   "execution_count": null,
   "metadata": {},
   "outputs": [],
   "source": []
  }
 ],
 "metadata": {
  "kernelspec": {
   "display_name": "Python 3",
   "language": "python",
   "name": "python3"
  },
  "language_info": {
   "codemirror_mode": {
    "name": "ipython",
    "version": 3
   },
   "file_extension": ".py",
   "mimetype": "text/x-python",
   "name": "python",
   "nbconvert_exporter": "python",
   "pygments_lexer": "ipython3",
   "version": "3.6.8"
  }
 },
 "nbformat": 4,
 "nbformat_minor": 2
}
